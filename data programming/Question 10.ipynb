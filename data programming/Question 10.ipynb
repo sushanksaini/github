{
 "cells": [
  {
   "cell_type": "code",
   "execution_count": null,
   "id": "ac5447a7",
   "metadata": {},
   "outputs": [],
   "source": [
    "def frequencies(s):\n",
    "    letters= 'abcdefghijklmnopqrstuvwxyz'\n",
    "    f=[0]*26\n",
    "    for x in s :\n",
    "        if x in letters:\n",
    "            f[ord(x)-ord('a')]=f[ord(x)-ord('a')]+1\n",
    "    return f\n",
    "print(frequencies('The quick red fox got bored and went home.'))\n",
    "print(frequencies('apple'))"
   ]
  }
 ],
 "metadata": {
  "kernelspec": {
   "display_name": "Python 3 (ipykernel)",
   "language": "python",
   "name": "python3"
  },
  "language_info": {
   "codemirror_mode": {
    "name": "ipython",
    "version": 3
   },
   "file_extension": ".py",
   "mimetype": "text/x-python",
   "name": "python",
   "nbconvert_exporter": "python",
   "pygments_lexer": "ipython3",
   "version": "3.9.13"
  }
 },
 "nbformat": 4,
 "nbformat_minor": 5
}
