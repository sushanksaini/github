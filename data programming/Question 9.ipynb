{
 "cells": [
  {
   "cell_type": "code",
   "execution_count": null,
   "id": "53b36db2",
   "metadata": {},
   "outputs": [],
   "source": [
    "6 + ‘a’"
   ]
  },
  {
   "cell_type": "markdown",
   "id": "c85fab68",
   "metadata": {},
   "source": [
    "#### SyntaxError: invalid character in identifier"
   ]
  },
  {
   "cell_type": "code",
   "execution_count": null,
   "id": "7498bfc0",
   "metadata": {},
   "outputs": [],
   "source": [
    "a=[1,2,3,4,5,6,7,8,9,10,11]\n",
    "print(a[12])"
   ]
  },
  {
   "cell_type": "markdown",
   "id": "6fb3f1ec",
   "metadata": {},
   "source": [
    "#### IndexError: list index out of range"
   ]
  },
  {
   "cell_type": "code",
   "execution_count": null,
   "id": "845e53e4",
   "metadata": {},
   "outputs": [],
   "source": [
    "import math\n",
    "math.sqrt(-1.0)"
   ]
  },
  {
   "cell_type": "markdown",
   "id": "4112bef2",
   "metadata": {},
   "source": [
    "#### ValueError: math domain error"
   ]
  },
  {
   "cell_type": "code",
   "execution_count": null,
   "id": "be1351e1",
   "metadata": {},
   "outputs": [],
   "source": [
    "print(x)"
   ]
  },
  {
   "cell_type": "markdown",
   "id": "5a0a122d",
   "metadata": {},
   "source": [
    "#### NameError: name 'x' is not defined"
   ]
  }
 ],
 "metadata": {
  "kernelspec": {
   "display_name": "Python 3 (ipykernel)",
   "language": "python",
   "name": "python3"
  },
  "language_info": {
   "codemirror_mode": {
    "name": "ipython",
    "version": 3
   },
   "file_extension": ".py",
   "mimetype": "text/x-python",
   "name": "python",
   "nbconvert_exporter": "python",
   "pygments_lexer": "ipython3",
   "version": "3.9.13"
  }
 },
 "nbformat": 4,
 "nbformat_minor": 5
}
