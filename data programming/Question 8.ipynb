{
 "cells": [
  {
   "cell_type": "code",
   "execution_count": null,
   "id": "b2db84c2",
   "metadata": {},
   "outputs": [],
   "source": [
    "def curConv(Currency, value):\n",
    "    f = open(\"currencies.txt\")\n",
    "    lines = f.readlines()\n",
    "    for line in lines:\n",
    "        s = line.strip().split('\\t')\n",
    "        code = s[0]\n",
    "        convFactor = float(s[1])\n",
    "        name = s[2]\n",
    "        \n",
    "        if Currency == code:\n",
    "            return value * convFactor\n",
    "    \n",
    "print(\"Converted amount in USD:\", curConv('EUR', 100))\n",
    "print(\"Converted amount in USD:\", curConv('JPY', 100))"
   ]
  }
 ],
 "metadata": {
  "kernelspec": {
   "display_name": "Python 3 (ipykernel)",
   "language": "python",
   "name": "python3"
  },
  "language_info": {
   "codemirror_mode": {
    "name": "ipython",
    "version": 3
   },
   "file_extension": ".py",
   "mimetype": "text/x-python",
   "name": "python",
   "nbconvert_exporter": "python",
   "pygments_lexer": "ipython3",
   "version": "3.9.13"
  }
 },
 "nbformat": 4,
 "nbformat_minor": 5
}
