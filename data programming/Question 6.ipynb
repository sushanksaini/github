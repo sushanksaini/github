{
 "cells": [
  {
   "cell_type": "code",
   "execution_count": null,
   "id": "4ee713aa",
   "metadata": {},
   "outputs": [],
   "source": [
    "def pig(s):\n",
    "    a= s.lower()\n",
    "    x=a[0]\n",
    "    if(x in \"aeiou\"):\n",
    "        return (a+\"way\")\n",
    "    else:\n",
    "        return (a[1:]+a[0]+\"ay\")\n",
    "print(pig(\"happy\"))\n",
    "print(pig(\"Enter\"))"
   ]
  }
 ],
 "metadata": {
  "kernelspec": {
   "display_name": "Python 3 (ipykernel)",
   "language": "python",
   "name": "python3"
  },
  "language_info": {
   "codemirror_mode": {
    "name": "ipython",
    "version": 3
   },
   "file_extension": ".py",
   "mimetype": "text/x-python",
   "name": "python",
   "nbconvert_exporter": "python",
   "pygments_lexer": "ipython3",
   "version": "3.9.13"
  }
 },
 "nbformat": 4,
 "nbformat_minor": 5
}
