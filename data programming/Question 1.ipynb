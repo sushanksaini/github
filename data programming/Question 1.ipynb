{
 "cells": [
  {
   "cell_type": "code",
   "execution_count": null,
   "id": "7fc9a770",
   "metadata": {},
   "outputs": [],
   "source": [
    "5 -> integer                                                 \n",
    "5.0 -> float\n",
    "5 > 1-> Boolean (True)\n",
    "'5'-> String\n",
    "5 * 2-> integer (10)\n",
    "'5' * 2-> string (‘55’)\n",
    "'5' + '2'-> error\n",
    "5 / 2-> float (2.5)\n",
    "5 % 2-> integer\n",
    "{5, 2, 1}-> list\n",
    "5 == 3-> bool\n",
    "Pi (the number)-> float(3.141)"
   ]
  }
 ],
 "metadata": {
  "kernelspec": {
   "display_name": ".NET (C#)",
   "language": "C#",
   "name": ".net-csharp"
  },
  "language_info": {
   "file_extension": ".cs",
   "mimetype": "text/x-csharp",
   "name": "C#",
   "pygments_lexer": "csharp",
   "version": "8.0"
  }
 },
 "nbformat": 4,
 "nbformat_minor": 5
}
