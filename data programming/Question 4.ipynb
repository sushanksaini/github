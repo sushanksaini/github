{
 "cells": [
  {
   "cell_type": "code",
   "execution_count": null,
   "id": "274dacc5",
   "metadata": {},
   "outputs": [],
   "source": [
    "public class OddEven//public class OddEven\n",
    "{\n",
    "    static void Main(string[] args)//main method\n",
    "    {\n",
    "        Console.Write(\"Input the number of elements to be stored in the array: \");/* asking for array length input from user */\n",
    "        int total = Convert.ToInt32(Console.ReadLine());/* taking input from user and convert into Int32 */\n",
    "        Console.WriteLine(\"Input \"+total+\" elements in the array : \");/* asking array element input from user */\n",
    "        int[] array = new int[total];/* declaring array */\n",
    "        for(int i=0;i<total;i++)/* iterating loop from  to total number of element in array*/\n",
    "        {\n",
    "            Console.Write(\"element - \"+i+\" : \");/* asking for input */\n",
    "            array[i] = Convert.ToInt32(Console.ReadLine());/* taking input from user */\n",
    "        }\n",
    "        int[] odd = new int[total];/* declaring odd array */\n",
    "        int[] even = new int[total];/* declaring even array */\n",
    "\n",
    "        int j = 0;/* declared for loop iteration */\n",
    "        for(int i=0;i<total;i++)/* iterating loop from  to total number of element in array*/\n",
    "        {\n",
    "            if(array[i]%2 == 0)/* checking if element is even or not */\n",
    "            {\n",
    "                even[j++] = array[i];//then add into even array\n",
    "            }\n",
    "        }\n",
    "        Console.WriteLine(\"\\nThe Even elements are : \");/* printing Even elements */\n",
    "        for(int i=0;i<j;i++)/* iterating loop from  to total number of element in array*/\n",
    "        {\n",
    "            Console.Write(even[i] + \"  \");/*  print out elements of Even */\n",
    "\n",
    "        }\n",
    "        j = 0;/* reassign for loop iteration */\n",
    "        for(int i=0;i<total;i++)/* iterating loop from  to total number of element in array*/\n",
    "        {\n",
    "            if(array[i]%2 != 0)/* checking if element is odd or not */\n",
    "            {\n",
    "                odd[j++] = array[i];//then add into odd array\n",
    "            }\n",
    "        }\n",
    "        Console.WriteLine(\"\\nThe Odd elements are : \");/* printing Odd elements */\n",
    "        for(int i=0;i<j;i++)/* iterating loop from  to total number of element in array*/\n",
    "        {\n",
    "            Console.Write(odd[i] + \"  \");/* print out element */\n",
    "        }\n",
    "    }\n",
    "}\n"
   ]
  }
 ],
 "metadata": {
  "kernelspec": {
   "display_name": ".NET (C#)",
   "language": "C#",
   "name": ".net-csharp"
  },
  "language_info": {
   "file_extension": ".cs",
   "mimetype": "text/x-csharp",
   "name": "C#",
   "pygments_lexer": "csharp",
   "version": "8.0"
  }
 },
 "nbformat": 4,
 "nbformat_minor": 5
}
