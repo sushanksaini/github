{
 "cells": [
  {
   "cell_type": "code",
   "execution_count": null,
   "id": "ca4737ef",
   "metadata": {},
   "outputs": [],
   "source": [
    "def bldcount(s):\n",
    "    file = open(s)\n",
    "    data = file.read()\n",
    "    bloodtypes = data.strip().split(' ')\n",
    "    valid_bloodtypes = [\"A\", \"B\", \"AB\", \"O\", \"OO\"]\n",
    "    counts = [0,0,0,0,0]\n",
    "    for bloodtype in bloodtypes:\n",
    "        if bloodtype in valid_bloodtypes:\n",
    "            idx = valid_bloodtypes.index(bloodtype)\n",
    "            counts[idx] += 1\n",
    "    for i, bloodtype in enumerate(valid_bloodtypes):\n",
    "        print(\"There are\", counts[i], \"patients of bloodtype\", bloodtype)\n",
    "bldcount(\"bloodtype1.txt\")"
   ]
  }
 ],
 "metadata": {
  "kernelspec": {
   "display_name": "Python 3 (ipykernel)",
   "language": "python",
   "name": "python3"
  },
  "language_info": {
   "codemirror_mode": {
    "name": "ipython",
    "version": 3
   },
   "file_extension": ".py",
   "mimetype": "text/x-python",
   "name": "python",
   "nbconvert_exporter": "python",
   "pygments_lexer": "ipython3",
   "version": "3.9.13"
  }
 },
 "nbformat": 4,
 "nbformat_minor": 5
}
