{
 "cells": [
  {
   "cell_type": "markdown",
   "id": "647e8299",
   "metadata": {},
   "source": [
    "#### How many letters are there in 'Supercalifragilisticexpialidocious'? "
   ]
  },
  {
   "cell_type": "code",
   "execution_count": 2,
   "id": "aaaa1876",
   "metadata": {},
   "outputs": [
    {
     "name": "stdout",
     "output_type": "stream",
     "text": [
      "There are 34 letters in str1\r\n"
     ]
    }
   ],
   "source": [
    "using System;\n",
    "using System.Collections.Generic;\n",
    "\n",
    "string str1 = \"Supercalifragilisticexpialidocious\";\n",
    "Console.WriteLine(\"There are {0} letters in str1\", str1.Length);"
   ]
  },
  {
   "cell_type": "markdown",
   "id": "fdb11359",
   "metadata": {},
   "source": [
    "#### Does 'Supercalifragilisticexpialidocious' contain 'ice' as a substring? "
   ]
  },
  {
   "cell_type": "code",
   "execution_count": 3,
   "id": "7fa0d63e",
   "metadata": {},
   "outputs": [
    {
     "name": "stdout",
     "output_type": "stream",
     "text": [
      "The value of str3 is in str2 = True\r\n"
     ]
    }
   ],
   "source": [
    "string str2 = \"Supercalifragilisticexpialidocious\"; \n",
    "string str3 = \"ice\";\n",
    "\n",
    "Console.WriteLine(\"The value of str3 is in str2 = {0}\", str2.Contains(str3));"
   ]
  },
  {
   "cell_type": "markdown",
   "id": "014b717a",
   "metadata": {},
   "source": [
    "#### Which of the following words is the longest: Supercalifragilisticexpialidocious, Honorificabilitudinitatibus,  or Bababadalgharaghtakamminarronnkonn? "
   ]
  },
  {
   "cell_type": "code",
   "execution_count": 5,
   "id": "767ffd92",
   "metadata": {},
   "outputs": [
    {
     "name": "stdout",
     "output_type": "stream",
     "text": [
      "The longgest word is = Supercalifragilisticexpialidocious\r\n"
     ]
    }
   ],
   "source": [
    "string str4 = \"Supercalifragilisticexpialidocious\";\n",
    "string str5 = \"Honorificabilitudinitatibus\";\n",
    "string str6 = \"Bababadalgharaghtakamminarronnkonn\";\n",
    "\n",
    "if ((str4.Length>=str5.Length) && (str4.Length>=str6.Length))\n",
    "    Console.WriteLine(\"The longgest word is = {0}\", str4);  \n",
    "                \n",
    "else if (str5.Length >= str6.Length)\n",
    "    Console.WriteLine(\"The longgest word is = {0}\", str5);\n",
    "else\n",
    "    Console.WriteLine(\"The longgest word is = {0}\", str6);\n"
   ]
  },
  {
   "cell_type": "markdown",
   "id": "496e397b",
   "metadata": {},
   "source": [
    "#### Which composer comes first in the dictionary: 'Berlioz', 'Borodin', 'Brian', 'Bartok', 'Bellini', 'Buxtehude', 'Bernstein'. Which one comes last?"
   ]
  },
  {
   "cell_type": "code",
   "execution_count": 6,
   "id": "0fe4bad8",
   "metadata": {},
   "outputs": [
    {
     "name": "stdout",
     "output_type": "stream",
     "text": [
      "Bartok\n",
      "Bellini\n",
      "Berlioz\n",
      "Bernstein\n",
      "Borodin\n",
      "Brian\n",
      "Buxtehude\r\n"
     ]
    }
   ],
   "source": [
    "var MyList = new List<string>();\n",
    "\n",
    "MyList.Add(\"Berlioz\");\n",
    "MyList.Add(\"Borodin\");\n",
    "MyList.Add(\"Brian\");\n",
    "MyList.Add(\"Bartok\");\n",
    "MyList.Add(\"Bellini\");\n",
    "MyList.Add(\"Buxtehude\");\n",
    "MyList.Add(\"Bernstein\");\n",
    "\n",
    "MyList.Sort();\n",
    "Console.WriteLine(string.Join(\"\\n\", \n",
    "\n",
    "MyList));"
   ]
  },
  {
   "cell_type": "code",
   "execution_count": null,
   "id": "f9938aec",
   "metadata": {},
   "outputs": [],
   "source": []
  }
 ],
 "metadata": {
  "kernelspec": {
   "display_name": ".NET (C#)",
   "language": "C#",
   "name": ".net-csharp"
  },
  "language_info": {
   "file_extension": ".cs",
   "mimetype": "text/x-csharp",
   "name": "C#",
   "pygments_lexer": "csharp",
   "version": "8.0"
  }
 },
 "nbformat": 4,
 "nbformat_minor": 5
}
