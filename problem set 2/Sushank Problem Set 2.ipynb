{
 "cells": [
  {
   "cell_type": "markdown",
   "id": "b0aedd5f",
   "metadata": {},
   "source": [
    "# Problem Set Two "
   ]
  },
  {
   "cell_type": "markdown",
   "id": "6fc47a7b",
   "metadata": {},
   "source": [
    "# Question 1"
   ]
  },
  {
   "cell_type": "markdown",
   "id": "4a35d9ed",
   "metadata": {},
   "source": [
    "Consider the following Python module: a = 0 def b(): global a a = c(a) def c(a): return a + 2 After importing the module into the interpreter, you execute:\n",
    "b() b() b() a\n",
    "? What value is displayed when the last expression (a) is evaluated? Explain your answer by indicating what happens in every executed statement."
   ]
  },
  {
   "cell_type": "code",
   "execution_count": 1,
   "id": "af7aba19",
   "metadata": {},
   "outputs": [
    {
     "data": {
      "text/plain": [
       "6"
      ]
     },
     "execution_count": 1,
     "metadata": {},
     "output_type": "execute_result"
    }
   ],
   "source": [
    "a=0\n",
    "def b():\n",
    "    global a\n",
    "    a=c(a)\n",
    "def c(a):\n",
    "    return a+2\n",
    "b()\n",
    "b()\n",
    "b()\n",
    "a"
   ]
  },
  {
   "cell_type": "markdown",
   "id": "a066ca70",
   "metadata": {},
   "source": [
    "## Explanation of Question 1"
   ]
  },
  {
   "cell_type": "markdown",
   "id": "ef4f6e00",
   "metadata": {},
   "source": [
    "<b> First, by calling the function 'b()', the variable 'a' is introduced as a global variable. Therefore, first the value of 'a' is taken as 0. It then equates the value of 'a' to the function 'c()' and passes the variable 'a' as the parameter of that function. Then in the function 'c()' the value of 'a' is increased by 2. In this way, calling the 'b()' function three times will increase the value of 'a' by two to three times. Then the value of 'a' will change to 6.</b>"
   ]
  },
  {
   "cell_type": "markdown",
   "id": "c9b2d592",
   "metadata": {},
   "source": [
    "# Question 2 "
   ]
  },
  {
   "cell_type": "markdown",
   "id": "ecf94304",
   "metadata": {},
   "source": [
    "Function fileLength(), given to you, takes the name of a file as input and returns the length of the file:\n",
    "fileLength('midterm.py')\n",
    "284\n",
    "fileLength('idterm.py')\n",
    "Traceback (most recent call last): File \"<pyshell#34>\", line 1, in fileLength('idterm.py') File \"/Users/me/midterm.py\", line 3, in fileLength infile = open(filename) FileNotFoundError: [Errno 2] No such file or directory: 'idterm.py' As shown above, if the file cannot be found by the interpreter or if it cannot be read as a text file, an exception will be raised. Modify function fileLength() so that a friendly message is printed instead:\n",
    "fileLength('midterm.py')\n",
    "358\n",
    "fileLength('idterm.py')\n",
    "File idterm.py not found.\n"
   ]
  },
  {
   "cell_type": "code",
   "execution_count": 5,
   "id": "35b5bd91",
   "metadata": {},
   "outputs": [
    {
     "name": "stdout",
     "output_type": "stream",
     "text": [
      "File Filelength.txt not found\n",
      "File Filelength1.txt not found\n"
     ]
    }
   ],
   "source": [
    "def fileLength(file_name):\n",
    "    try:\n",
    "        with open(file_name,'r') as f:\n",
    "            print(len(f.read()))\n",
    "    except FileNotFoundError:\n",
    "        print('File '+file_name+' not found');\n",
    "\n",
    "fileLength('Filelength.txt')\n",
    "fileLength('Filelength1.txt')"
   ]
  },
  {
   "cell_type": "markdown",
   "id": "f8a1247b",
   "metadata": {},
   "source": [
    "# Question 3"
   ]
  },
  {
   "cell_type": "markdown",
   "id": "7bde2b73",
   "metadata": {},
   "source": [
    "Write a class named Marsupial that can be used as shown below:\n",
    "m = Marsupial() m.put_in_pouch('doll') m.put_in_pouch('firetruck') m.put_in_pouch('kitten') m.pouch_contents()\n",
    "['doll', 'firetruck', 'kitten']\n",
    "class Marsupial:\n",
    "    pouch_list = []\n",
    "    def put_in_pouch(self,name):\n",
    "        self.pouch_list.append(name)\n",
    "        \n",
    "    def pouch_contents(self):\n",
    "        print(self.pouch_list)\n",
    "m = Marsupial()\n",
    "m.put_in_pouch('doll')\n",
    "m.put_in_pouch('firetruck')\n",
    "m.put_in_pouch('kitten')\n",
    "m.pouch_contents()\n",
    "['doll', 'firetruck', 'kitten']\n",
    "Now write a class named Kangaroo as a subclass of Marsupial that inherits all the attributes of Marsupial and also: a. extends the Marsupial init constructor to take, as input, the coordinates x and y of the Kangaroo object, b. supports method jump that takes number values dx and dy as input and moves the kangaroo by dx units along the x-axis and by dy units along the y- axis, and c. overloads the str operator so it behaves as shown below.\n",
    "k = Kangaroo(0,0) print(k)\n",
    "I am a Kangaroo located at coordinates (0,0)\n",
    "k.put_in_pouch('doll') k.put_in_pouch('firetruck') k.put_in_pouch('kitten') k.pouch_contents()\n",
    "['doll', 'firetruck', 'kitten']\n",
    "k.jump(1,0) k.jump(1,0) k.jump(1,0) print(k)\n",
    "I am a Kangaroo located at coordinates (3,0)\n"
   ]
  },
  {
   "cell_type": "code",
   "execution_count": 6,
   "id": "652a1e5f",
   "metadata": {},
   "outputs": [
    {
     "name": "stdout",
     "output_type": "stream",
     "text": [
      "I am a Kangaroo located at coordinates (0,0)\n",
      "['doll', 'firetruck', 'kitten']\n",
      "I am a Kangaroo located at coordinates (3,0)\n"
     ]
    }
   ],
   "source": [
    "class Marsupial:\n",
    "    \n",
    "    def __init__(self,x,y):\n",
    "        self.dx=x\n",
    "        self.dy=y\n",
    "    pouch_list=[]\n",
    "    def put_in_pouch(self,name):\n",
    "        self.pouch_list.append(name)\n",
    "        \n",
    "    def pouch_contents(self):\n",
    "        print(self.pouch_list)\n",
    "\n",
    "class Kangaroo(Marsupial):\n",
    "    \n",
    "    def __init__(self,x,y):\n",
    "        Marsupial.__init__(self,x,y)\n",
    "        \n",
    "    def jump(self,x,y):\n",
    "        self.dx=self.dx+x\n",
    "        self.dy=self.dy+y\n",
    "        \n",
    "        \n",
    "    def __str__(self):\n",
    "        return \"I am a Kangaroo located at coordinates (\"+str(self.dx)+\",\"+str(self.dy)+\")\"\n",
    "    \n",
    "k = Kangaroo(0,0)\n",
    "print(k)\n",
    "k.put_in_pouch('doll')\n",
    "k.put_in_pouch('firetruck')\n",
    "k.put_in_pouch('kitten')\n",
    "k.pouch_contents()\n",
    "k.jump(1,0)\n",
    "k.jump(1,0)\n",
    "k.jump(1,0)\n",
    "print(k)"
   ]
  },
  {
   "cell_type": "markdown",
   "id": "9b3acf15",
   "metadata": {},
   "source": [
    "# Question 4"
   ]
  },
  {
   "cell_type": "markdown",
   "id": "e368f00b",
   "metadata": {},
   "source": [
    "Write function collatz() that takes a positive integer x as input and prints the Collatz sequence starting at x. A Collatz sequence is obtained by repeatedly applying this rule to the previous number x in the sequence: x = { 𝑥/2 𝑖𝑓 𝑥 𝑖𝑠 𝑒𝑣𝑒𝑛 3𝑥 + 1 𝑖𝑓 𝑥 𝑖𝑠 𝑜𝑑𝑑 Your function should stop when the sequence gets to number 1. Your implementation must be recursive, without any loops.\n",
    "collatz(1)\n",
    "1\n",
    "collatz(10)\n",
    "10 5 16 8 4 2 1"
   ]
  },
  {
   "cell_type": "code",
   "execution_count": 8,
   "id": "2681a0f0",
   "metadata": {},
   "outputs": [
    {
     "name": "stdout",
     "output_type": "stream",
     "text": [
      "15\n",
      "16\n",
      "8\n",
      "4\n",
      "2\n",
      "1\n"
     ]
    }
   ],
   "source": [
    "def collatz(num):\n",
    "    if num%2==0:\n",
    "        print(num)\n",
    "        collatz(int(num/2))\n",
    "    elif num==1:\n",
    "        print(num)\n",
    "    else:\n",
    "        print(num)\n",
    "        collatz(num+1)\n",
    "\n",
    "collatz(15)"
   ]
  },
  {
   "cell_type": "markdown",
   "id": "ae5793e8",
   "metadata": {},
   "source": [
    "# Question 5"
   ]
  },
  {
   "cell_type": "markdown",
   "id": "a3f31025",
   "metadata": {},
   "source": [
    "Write a recursive method binary() that takes a non-negative integer n and prints the binary representation of integer n.\n",
    "binary(0)\n",
    "0\n",
    "binary(1)\n",
    "1\n",
    "binary(3)\n",
    "11\n",
    "binary(9)\n",
    "1001\n"
   ]
  },
  {
   "cell_type": "code",
   "execution_count": 9,
   "id": "fe408bf3",
   "metadata": {},
   "outputs": [],
   "source": [
    "def binary(num):\n",
    "    if(num>0):\n",
    "        x=num%2\n",
    "        num=int(num/2)\n",
    "        return int(str(binary(num))+str(x))\n",
    "    else:\n",
    "        return 0"
   ]
  },
  {
   "cell_type": "code",
   "execution_count": 10,
   "id": "baf38a1f",
   "metadata": {},
   "outputs": [
    {
     "name": "stdout",
     "output_type": "stream",
     "text": [
      "100\n",
      "110\n",
      "1000\n"
     ]
    }
   ],
   "source": [
    "print(binary(4))\n",
    "print(binary(6))\n",
    "print(binary(8))"
   ]
  },
  {
   "cell_type": "markdown",
   "id": "f51c8c53",
   "metadata": {},
   "source": [
    "# Question 6"
   ]
  },
  {
   "cell_type": "markdown",
   "id": "9d3d833d",
   "metadata": {},
   "source": [
    "Implement a class named HeadingParser that can be used to parse an HTML document, and retrieve and print all the headings in the document. You should implement your class as a subclass of HTMLParser, defined in Standard Library module html.parser. When fed a string containing HTML code, your class should print the headings, one per line and in the order in which they appear in the document. Each heading should be indented as follows: an h1 heading should have indentation 0, and h2 heading should have indentation 1, etc. Test your implementation using w3c.html.\n",
    "infile = open('w3c.html') content = infile.read() infile.close() hp = HeadingParser() hp.feed(content)\n",
    "W3C Mission Principles"
   ]
  },
  {
   "cell_type": "code",
   "execution_count": 11,
   "id": "d54865c4",
   "metadata": {},
   "outputs": [
    {
     "name": "stdout",
     "output_type": "stream",
     "text": [
      "W3C Mission\n",
      " Principles\n"
     ]
    }
   ],
   "source": [
    "from html.parser import HTMLParser\n",
    "\n",
    "class HeadingParser(HTMLParser):\n",
    "    h1_tag=\"\"\n",
    "    h2_tag=\"\"\n",
    "    \n",
    "    def __init__(self):\n",
    "        HTMLParser.__init__(self)\n",
    "        \n",
    "    def handle_starttag(self,tag,attr):\n",
    "        if tag=='h1':\n",
    "            self.h1_tag=True\n",
    "        elif tag=='h2':\n",
    "            self.h2_tag=True\n",
    "            \n",
    "    def handle_data(self,data):\n",
    "        if self.h1_tag:\n",
    "            print(data)\n",
    "        elif self.h2_tag:\n",
    "            print(\" \"+data)\n",
    "            \n",
    "    def handle_endtag(self,tag):\n",
    "        if tag=='h1':\n",
    "            self.h1_tag=False\n",
    "        elif tag=='h2':\n",
    "            self.h2_tag=False\n",
    "            \n",
    "infile = open('w3c.html')\n",
    "content =infile.read()\n",
    "hp = HeadingParser()\n",
    "hp.feed(content)"
   ]
  },
  {
   "cell_type": "markdown",
   "id": "15fe727d",
   "metadata": {},
   "source": [
    "# Question 7"
   ]
  },
  {
   "cell_type": "markdown",
   "id": "6642727b",
   "metadata": {},
   "source": [
    "Implement recursive function webdir() that takes as input: a URL (as a string) and non-negative integers depth and indent. Your function should visit every web page reachable from the starting URL web page in depth clicks or less, and print each web page's URL. As shown below, indentation, specified by indent, should be used to indicate the depth of a URL.\n",
    "webdir('http://reed.cs.depaul.edu/lperkovic/csc242/test1.html' , 2, 0) http://reed.cs.depaul.edu/lperkovic/csc242/test1.html http://reed.cs.depaul.edu/lperkovic/csc242/test2.html http://reed.cs.depaul.edu/lperkovic/csc242/test4.html http://reed.cs.depaul.edu/lperkovic/csc242/test3.html http://reed.cs.depaul.edu/lperkovic/csc242/test4.html\n"
   ]
  },
  {
   "cell_type": "code",
   "execution_count": 12,
   "id": "46bc8711",
   "metadata": {},
   "outputs": [
    {
     "name": "stdout",
     "output_type": "stream",
     "text": [
      "http://reed.cs.depaul.edu/lperkovic/test1.html\n",
      " http://reed.cs.depaul.edu/lperkovic/test2.html\n",
      "  http://reed.cs.depaul.edu/lperkovic/test4.html\n",
      " http://reed.cs.depaul.edu/lperkovic/test3.html\n",
      "  http://reed.cs.depaul.edu/lperkovic/test4.html\n"
     ]
    }
   ],
   "source": [
    "import urllib.request\n",
    "from html.parser import HTMLParser\n",
    "\n",
    "class MyParser(HTMLParser):\n",
    "    def handle_starttag(self, tag, attrs):\n",
    "        if tag=='a':\n",
    "            for attr in attrs:\n",
    "                if attr[0]=='href':\n",
    "                    if attr[1][-4:]=='html':\n",
    "                        if attr[1][:4]=='http':\n",
    "                            webdir(attr[1],1,1)\n",
    "                        elif attr[1][:5]=='test3':\n",
    "                            url='http://reed.cs.depaul.edu/lperkovic/'+attr[1]\n",
    "                            webdir(url,0,1)\n",
    "                        else:\n",
    "                            url='http://reed.cs.depaul.edu/lperkovic/'+attr[1]\n",
    "                            webdir(url,0,2)\n",
    "\n",
    "def webdir(url,depth,indent):\n",
    "    if indent==0:\n",
    "        print(url)\n",
    "    elif indent==1:\n",
    "        print(\" \"+url)\n",
    "    elif indent==2:\n",
    "        print(\"  \"+url)\n",
    "    request = urllib.request.urlopen(url)\n",
    "    html=request.read().decode(\"utf8\")\n",
    "    parser =MyParser()\n",
    "    parser.feed(html)\n",
    "webdir('http://reed.cs.depaul.edu/lperkovic/test1.html',2,0)"
   ]
  },
  {
   "cell_type": "markdown",
   "id": "a990e7d2",
   "metadata": {},
   "source": [
    "# Quection 8"
   ]
  },
  {
   "cell_type": "markdown",
   "id": "744e64ae",
   "metadata": {},
   "source": [
    "#### Write SQL queries on the below database table that return: I have assumed the table name as temperature. a) All the temperature data"
   ]
  },
  {
   "cell_type": "markdown",
   "id": "e7ae6e11",
   "metadata": {},
   "source": [
    "a) All the temperature data</b>\n",
    "\n",
    "select Temperature(c) from temperature;</b>\n",
    "\n",
    "b) All the cities, but without repetition.</b>\n",
    "\n",
    "select distinct City from temperature;</b>\n",
    "\n",
    "c) All the records for India.</b>\n",
    "\n",
    "select * from temperature where Country='India';</b>\n",
    "\n",
    "d) All the Fall records</b>\n",
    "\n",
    "select * from temperature where season='Fall';</b>\n",
    "\n",
    "e) The city, country, and season for which the average rainfall is between 200 and 400 millimeters.</b>\n",
    "\n",
    "select city,country,season from temperature where Rainfall between 200 and 400;</b>\n",
    "\n",
    "f) The city and country for which the average Fall temperature is above 20 degrees, in increasing temperature order.</b>\n",
    "\n",
    "select city,country from temperature where temperature>20 order by temperature asc;</b>\n",
    "\n",
    "g) The total annual rainfall for Cairo.</b>\n",
    "\n",
    "select sum(Rainfall) as annual_rainfall from temperature where city='Cairo';</b>\n",
    "\n",
    "h) The total rainfall for each season.</b>\n",
    "\n",
    "select sum(Rainfall) as annual_rainfall from temperature group by season;</b>"
   ]
  },
  {
   "cell_type": "markdown",
   "id": "52bc8864",
   "metadata": {},
   "source": [
    "# Question - 9"
   ]
  },
  {
   "cell_type": "markdown",
   "id": "a4a10878",
   "metadata": {},
   "source": [
    "### a."
   ]
  },
  {
   "cell_type": "code",
   "execution_count": 14,
   "id": "c3c94236",
   "metadata": {},
   "outputs": [
    {
     "name": "stdout",
     "output_type": "stream",
     "text": [
      "['THE', 'QUICK', 'BROWN', 'FOX', 'JUMPS', 'OVER', 'THE', 'LAZY', 'DOG']\n"
     ]
    }
   ],
   "source": [
    "words = ['The', 'quick', 'brown', 'fox', 'jumps', 'over', 'the', 'lazy', 'dog']\n",
    "words_upper=[]\n",
    "for word in words:\n",
    "    words_upper.append(word.upper())\n",
    "print(words_upper)"
   ]
  },
  {
   "cell_type": "markdown",
   "id": "c6af2b6d",
   "metadata": {},
   "source": [
    "### b."
   ]
  },
  {
   "cell_type": "code",
   "execution_count": 15,
   "id": "7ebee24a",
   "metadata": {},
   "outputs": [
    {
     "name": "stdout",
     "output_type": "stream",
     "text": [
      "['the', 'quick', 'brown', 'fox', 'jumps', 'over', 'the', 'lazy', 'dog']\n"
     ]
    }
   ],
   "source": [
    "words_lower=[]\n",
    "for word in words:\n",
    "    words_lower.append(word.lower())\n",
    "print(words_lower)"
   ]
  },
  {
   "cell_type": "markdown",
   "id": "ede63032",
   "metadata": {},
   "source": [
    "### c."
   ]
  },
  {
   "cell_type": "code",
   "execution_count": 16,
   "id": "69a85f24",
   "metadata": {},
   "outputs": [
    {
     "name": "stdout",
     "output_type": "stream",
     "text": [
      "[3, 5, 5, 3, 5, 4, 3, 4, 3]\n"
     ]
    }
   ],
   "source": [
    "words_length=[]\n",
    "for word in words:\n",
    "    words_length.append(len(word))\n",
    "print(words_length)"
   ]
  },
  {
   "cell_type": "markdown",
   "id": "e656196e",
   "metadata": {},
   "source": [
    "### d."
   ]
  },
  {
   "cell_type": "code",
   "execution_count": 17,
   "id": "3ca19bde",
   "metadata": {},
   "outputs": [
    {
     "name": "stdout",
     "output_type": "stream",
     "text": [
      "[['THE', 'the', 3], ['QUICK', 'quick', 5], ['BROWN', 'brown', 5], ['FOX', 'fox', 3], ['JUMPS', 'jumps', 5], ['OVER', 'over', 4], ['THE', 'the', 3], ['LAZY', 'lazy', 4], ['DOG', 'dog', 3]]\n"
     ]
    }
   ],
   "source": [
    "word_upper_lower_and_length = []\n",
    "for word in words:\n",
    "    word_upper_lower_and_length.append(word.upper())\n",
    "    word_upper_lower_and_length.append(word.lower())\n",
    "    word_upper_lower_and_length.append(len(word))\n",
    "print(word_upper_lower_and_length)"
   ]
  },
  {
   "cell_type": "markdown",
   "id": "dae4c916",
   "metadata": {},
   "source": [
    "### e."
   ]
  },
  {
   "cell_type": "code",
   "execution_count": 18,
   "id": "1fa28e5c",
   "metadata": {},
   "outputs": [
    {
     "name": "stdout",
     "output_type": "stream",
     "text": [
      "['quick', 'brown', 'jumps', 'over', 'lazy']\n"
     ]
    }
   ],
   "source": [
    "words_limit=[]\n",
    "for word in words:\n",
    "    if len(word)>=4:# In the question it has mentioned that we need to take words with more than four characters\n",
    "        words_limit.append(word.lower())\n",
    "print(words_limit)"
   ]
  }
 ],
 "metadata": {
  "kernelspec": {
   "display_name": "Python 3 (ipykernel)",
   "language": "python",
   "name": "python3"
  },
  "language_info": {
   "codemirror_mode": {
    "name": "ipython",
    "version": 3
   },
   "file_extension": ".py",
   "mimetype": "text/x-python",
   "name": "python",
   "nbconvert_exporter": "python",
   "pygments_lexer": "ipython3",
   "version": "3.9.13"
  }
 },
 "nbformat": 4,
 "nbformat_minor": 5
}
